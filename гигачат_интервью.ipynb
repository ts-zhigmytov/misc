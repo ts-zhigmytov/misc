{
 "cells": [
  {
   "cell_type": "code",
   "execution_count": 3,
   "id": "9cd7d905",
   "metadata": {},
   "outputs": [
    {
     "ename": "ModuleNotFoundError",
     "evalue": "No module named 'datasets'",
     "output_type": "error",
     "traceback": [
      "\u001b[1;31m---------------------------------------------------------------------------\u001b[0m",
      "\u001b[1;31mModuleNotFoundError\u001b[0m                       Traceback (most recent call last)",
      "\u001b[1;32m~\\AppData\\Local\\Temp\\ipykernel_5068\\3266668986.py\u001b[0m in \u001b[0;36m<module>\u001b[1;34m\u001b[0m\n\u001b[0;32m      1\u001b[0m \u001b[1;32mimport\u001b[0m \u001b[0mpandas\u001b[0m \u001b[1;32mas\u001b[0m \u001b[0mpd\u001b[0m\u001b[1;33m\u001b[0m\u001b[1;33m\u001b[0m\u001b[0m\n\u001b[0;32m      2\u001b[0m \u001b[1;32mimport\u001b[0m \u001b[0mnumpy\u001b[0m \u001b[1;32mas\u001b[0m \u001b[0mnp\u001b[0m\u001b[1;33m\u001b[0m\u001b[1;33m\u001b[0m\u001b[0m\n\u001b[1;32m----> 3\u001b[1;33m \u001b[1;32mfrom\u001b[0m \u001b[0mdatasets\u001b[0m \u001b[1;32mimport\u001b[0m \u001b[0mload_dataset\u001b[0m\u001b[1;33m\u001b[0m\u001b[1;33m\u001b[0m\u001b[0m\n\u001b[0m\u001b[0;32m      4\u001b[0m \u001b[1;33m\u001b[0m\u001b[0m\n\u001b[0;32m      5\u001b[0m \u001b[1;31m# load data from higgingface\u001b[0m\u001b[1;33m\u001b[0m\u001b[1;33m\u001b[0m\u001b[0m\n",
      "\u001b[1;31mModuleNotFoundError\u001b[0m: No module named 'datasets'"
     ]
    }
   ],
   "source": [
    "import pandas as pd \n",
    "import numpy as np \n",
    "from datasets import load_dataset\n",
    "\n",
    "# load data from higgingface \n",
    "data = load_dataset(\"ai-forever/ru-stsbenchmark-sts\") \n",
    "\n",
    "data\n"
   ]
  },
  {
   "cell_type": "code",
   "execution_count": null,
   "id": "b679860d",
   "metadata": {},
   "outputs": [],
   "source": [
    "!conda install datasets"
   ]
  },
  {
   "cell_type": "code",
   "execution_count": null,
   "id": "a607b143",
   "metadata": {},
   "outputs": [],
   "source": [
    "# show test data in pandas \n",
    "data['test'].to_pandas().head()\n"
   ]
  },
  {
   "cell_type": "code",
   "execution_count": null,
   "id": "0137b0a6",
   "metadata": {},
   "outputs": [],
   "source": [
    "# sentence1 \n",
    "sentences_1 = list(set(data['test']['sentence1'])) \n",
    "sentences_1[:4]\n"
   ]
  },
  {
   "cell_type": "code",
   "execution_count": null,
   "id": "d968ab19",
   "metadata": {},
   "outputs": [],
   "source": [
    "# sentence2 = texts for search \n",
    "sentences_2 = list(set(data['test']['sentence2'])) \n",
    "sentences_2[:4]\n"
   ]
  },
  {
   "cell_type": "code",
   "execution_count": null,
   "id": "192865af",
   "metadata": {},
   "outputs": [],
   "source": [
    "# result \n",
    "df = pd.DataFrame({'sentence1': sentences_1, 'top1_text': None, 'top2_text': None}) \n",
    "\n",
    "df.head()\n"
   ]
  },
  {
   "cell_type": "code",
   "execution_count": null,
   "id": "73af43d2",
   "metadata": {},
   "outputs": [],
   "source": [
    "# ищем где есть косинусное расстояние sklearn \n",
    "# эффективность оббега двух колонок -- ?\n",
    "# посмотреть параметры алгоритма косинусного \n",
    "# рассчитываем массивы, затем колонки на их основе \n",
    "\n"
   ]
  },
  {
   "cell_type": "code",
   "execution_count": null,
   "id": "bf33edbd",
   "metadata": {},
   "outputs": [],
   "source": []
  }
 ],
 "metadata": {
  "kernelspec": {
   "display_name": "Python 3 (ipykernel)",
   "language": "python",
   "name": "python3"
  },
  "language_info": {
   "codemirror_mode": {
    "name": "ipython",
    "version": 3
   },
   "file_extension": ".py",
   "mimetype": "text/x-python",
   "name": "python",
   "nbconvert_exporter": "python",
   "pygments_lexer": "ipython3",
   "version": "3.9.13"
  }
 },
 "nbformat": 4,
 "nbformat_minor": 5
}
